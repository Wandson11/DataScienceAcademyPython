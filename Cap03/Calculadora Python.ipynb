{
 "cells": [
  {
   "cell_type": "code",
   "execution_count": 18,
   "metadata": {},
   "outputs": [
    {
     "name": "stdout",
     "output_type": "stream",
     "text": [
      "\n",
      "1 - soma\n",
      "2 - subtração\n",
      "3 - multiplicação\n",
      "4 - divisão\n",
      "5 - sair\n",
      "Escolha uma das opções acima: 1\n",
      "Digite o primeiro número: 2\n",
      "Digite o segundo número: 1\n",
      "3\n",
      "Escolha uma das opções acima: 2\n",
      "Digite o primeiro número: 4\n",
      "Digite o segundo número: 2\n",
      "2\n",
      "Escolha uma das opções acima: 3\n",
      "Digite o primeiro número: 3\n",
      "Digite o segundo número: 3\n",
      "9\n",
      "Escolha uma das opções acima: 6\n",
      "Valor inválido\n",
      "Escolha uma das opções acima: 4\n",
      "Digite o primeiro número: 6\n",
      "Digite o segundo número: 2\n",
      "3.0\n",
      "Escolha uma das opções acima: 5\n"
     ]
    }
   ],
   "source": [
    "print('''\n",
    "1 - soma\n",
    "2 - subtração\n",
    "3 - multiplicação\n",
    "4 - divisão\n",
    "5 - sair''')\n",
    "\n",
    "while alternativa != 5:\n",
    "    alternativa = int(input('Escolha uma das opções acima: '))\n",
    "    \n",
    "    if alternativa == 1:\n",
    "        primeiro = int(input('Digite o primeiro número: '))\n",
    "        segundo = int(input('Digite o segundo número: '))\n",
    "        soma = primeiro + segundo\n",
    "        print(soma)\n",
    "    elif alternativa == 2:\n",
    "        primeiro = int(input('Digite o primeiro número: '))\n",
    "        segundo = int(input('Digite o segundo número: '))\n",
    "        sub = primeiro - segundo\n",
    "        print(sub)\n",
    "    elif alternativa == 3:\n",
    "        primeiro = int(input('Digite o primeiro número: '))\n",
    "        segundo = int(input('Digite o segundo número: '))\n",
    "        mult = primeiro * segundo\n",
    "        print(mult)\n",
    "    elif alternativa == 4:\n",
    "        primeiro = int(input('Digite o primeiro número: '))\n",
    "        segundo = int(input('Digite o segundo número: '))\n",
    "        div = primeiro / segundo\n",
    "        print(div)\n",
    "    elif alternativa == 5:\n",
    "        break\n",
    "    else:\n",
    "        print('Valor inválido')"
   ]
  },
  {
   "cell_type": "code",
   "execution_count": null,
   "metadata": {},
   "outputs": [],
   "source": []
  }
 ],
 "metadata": {
  "kernelspec": {
   "display_name": "Python 3",
   "language": "python",
   "name": "python3"
  },
  "language_info": {
   "codemirror_mode": {
    "name": "ipython",
    "version": 3
   },
   "file_extension": ".py",
   "mimetype": "text/x-python",
   "name": "python",
   "nbconvert_exporter": "python",
   "pygments_lexer": "ipython3",
   "version": "3.8.5"
  }
 },
 "nbformat": 4,
 "nbformat_minor": 4
}
