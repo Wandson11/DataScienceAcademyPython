{
 "cells": [
  {
   "cell_type": "code",
   "execution_count": 3,
   "metadata": {},
   "outputs": [
    {
     "name": "stdout",
     "output_type": "stream",
     "text": [
      "\n",
      "Selecione o número da operação desejada\n",
      "\n",
      "1-Soma\n",
      "2-Subtração\n",
      "3-Multiplicação\n",
      "4-Divisão\n",
      "\n",
      "Digite sua opção: 1\n",
      "\n",
      "Digite o primeiro número: 2\n",
      "\n",
      "Digite o segundo número: 1\n"
     ]
    }
   ],
   "source": [
    "def soma(x, y):\n",
    "    return x+y\n",
    "\n",
    "def subtracao(x, y):\n",
    "    return x-y\n",
    "\n",
    "def multi(x, y):\n",
    "    return x*y\n",
    "\n",
    "def divi(x, y):\n",
    "    return x/y\n",
    "\n",
    "print('\\nSelecione o número da operação desejada\\n')\n",
    "print('1-Soma')\n",
    "print('2-Subtração')\n",
    "print('3-Multiplicação')\n",
    "print('4-Divisão')\n",
    "\n",
    "escolha = input('\\nDigite sua opção: ')\n",
    "\n",
    "num1=int(input('\\nDigite o primeiro número: '))\n",
    "num2=int(input('\\nDigite o segundo número: '))\n",
    "\n",
    "if escolha == 1:\n",
    "    print('\\n')\n",
    "    print(num1, ' + ', num2, ' = ', soma(num1, num2))\n",
    "    \n",
    "elif escolha == 2:\n",
    "    print('\\n')\n",
    "    print(num1, ' - ', num2, ' = ', subtracao(num1, num2))\n",
    "    \n",
    "elif escolha == 3:\n",
    "    print('\\n')\n",
    "    print(num1, ' * ', num2, ' = ', multi(num1, num2))\n",
    "    \n",
    "elif escolha == 4:\n",
    "    print('\\n')\n",
    "    print(num1, ' / ', num2, ' = ', divi(num1, num2))"
   ]
  },
  {
   "cell_type": "code",
   "execution_count": null,
   "metadata": {},
   "outputs": [],
   "source": []
  },
  {
   "cell_type": "code",
   "execution_count": null,
   "metadata": {},
   "outputs": [],
   "source": []
  }
 ],
 "metadata": {
  "kernelspec": {
   "display_name": "Python 3",
   "language": "python",
   "name": "python3"
  },
  "language_info": {
   "codemirror_mode": {
    "name": "ipython",
    "version": 3
   },
   "file_extension": ".py",
   "mimetype": "text/x-python",
   "name": "python",
   "nbconvert_exporter": "python",
   "pygments_lexer": "ipython3",
   "version": "3.8.5"
  }
 },
 "nbformat": 4,
 "nbformat_minor": 4
}
